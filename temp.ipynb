{
 "cells": [
  {
   "cell_type": "code",
   "execution_count": 1,
   "id": "01912ecf-ad60-4a1a-bd9d-71246b534bbe",
   "metadata": {},
   "outputs": [],
   "source": [
    "import pandas as pd"
   ]
  },
  {
   "cell_type": "code",
   "execution_count": 2,
   "id": "9c81bb39-57b9-4dec-ab10-3128448b0396",
   "metadata": {},
   "outputs": [],
   "source": [
    "def readExcelData(path):\n",
    "    df_excel=[]\n",
    "    df_read=pd.ExcelFile(path)  \n",
    "    for sheet in df_read.sheet_names:\n",
    "        df=pd.read_excel(path,sheet_name=sheet)\n",
    "        df_excel.append(df)\n",
    "    return df_read.sheet_names,df_excel"
   ]
  },
  {
   "cell_type": "code",
   "execution_count": 10,
   "id": "5bbd7976-e4d0-43dd-9da8-18aa6992f7c7",
   "metadata": {},
   "outputs": [],
   "source": [
    "file_path = \"C:\\\\Users\\\\Hp\\\\testingPractice\\\\PycharmProjects\\\\etlProject\\\\resource\\\\excelfile1.xlsx\"\n",
    "\n",
    "sheet_names1,excel_file1 = readExcelData(file_path)"
   ]
  },
  {
   "cell_type": "code",
   "execution_count": 14,
   "id": "662a1275-8707-4890-9b29-c48c601c6f6a",
   "metadata": {},
   "outputs": [
    {
     "name": "stdout",
     "output_type": "stream",
     "text": [
      "2\n"
     ]
    }
   ],
   "source": [
    "print(len(excel_file1))"
   ]
  },
  {
   "cell_type": "code",
   "execution_count": 17,
   "id": "975496d2-6d4b-428a-811e-92974cd0d8b9",
   "metadata": {},
   "outputs": [
    {
     "name": "stdout",
     "output_type": "stream",
     "text": [
      "     EMPLOYEE_ID FIRST_NAME LAST_NAME       EMAIL  PHONE_NUMBER  HIRE_DATE  \\\n",
      "0            100     Steven      King       SKING  515.123.4567 2003-06-17   \n",
      "1            101      Neena   Kochhar    NKOCHHAR  515.123.4568 2005-09-21   \n",
      "2            102        Lex   De Haan     LDEHAAN  515.123.4569 2001-01-13   \n",
      "3            103  Alexander    Hunold     AHUNOLD  590.423.4567 2006-01-03   \n",
      "4            104      Bruce     Ernst      BERNST  590.423.4568 2007-05-21   \n",
      "..           ...        ...       ...         ...           ...        ...   \n",
      "103          203      Susan    Mavris     SMAVRIS  515.123.7777 2002-06-07   \n",
      "104          204    Hermann      Baer       HBAER  515.123.8888 2002-06-07   \n",
      "105          205    Shelley   Higgins    SHIGGINS  515.123.8080 2002-06-07   \n",
      "106          206    William     Gietz      WGIETZ  515.123.8181 2002-06-07   \n",
      "107          990      Test1     Data1  test1data1  000.000.0000 2023-02-27   \n",
      "\n",
      "         JOB_ID  SALARY  COMMISSION_PCT  MANAGER_ID  DEPARTMENT_ID  \n",
      "0       AD_PRES   24000             NaN         NaN           90.0  \n",
      "1         AD_VP   17000             NaN       100.0           90.0  \n",
      "2         AD_VP   17000             NaN       100.0           90.0  \n",
      "3       IT_PROG    9000             NaN       102.0           60.0  \n",
      "4       IT_PROG    6000             NaN       103.0           60.0  \n",
      "..          ...     ...             ...         ...            ...  \n",
      "103      HR_REP    6500             NaN       101.0           40.0  \n",
      "104      PR_REP   10000             NaN       101.0           70.0  \n",
      "105      AC_MGR   12008             NaN       101.0          110.0  \n",
      "106  AC_ACCOUNT    8300             NaN       205.0          110.0  \n",
      "107      HR_REP   10000             NaN       100.0           70.0  \n",
      "\n",
      "[108 rows x 11 columns]\n"
     ]
    }
   ],
   "source": [
    "print(excel_file1[0])"
   ]
  },
  {
   "cell_type": "code",
   "execution_count": 18,
   "id": "9bd15e52-a7a7-484e-89f2-677718532bc0",
   "metadata": {},
   "outputs": [],
   "source": [
    "df = pd.DataFrame(columns=['Sheet_Name','Match_Count','Mismatch_Count'])"
   ]
  },
  {
   "cell_type": "code",
   "execution_count": 19,
   "id": "b5926e9c-0bf4-4eb0-bef2-98b9baa7da1a",
   "metadata": {},
   "outputs": [
    {
     "data": {
      "text/html": [
       "<div>\n",
       "<style scoped>\n",
       "    .dataframe tbody tr th:only-of-type {\n",
       "        vertical-align: middle;\n",
       "    }\n",
       "\n",
       "    .dataframe tbody tr th {\n",
       "        vertical-align: top;\n",
       "    }\n",
       "\n",
       "    .dataframe thead th {\n",
       "        text-align: right;\n",
       "    }\n",
       "</style>\n",
       "<table border=\"1\" class=\"dataframe\">\n",
       "  <thead>\n",
       "    <tr style=\"text-align: right;\">\n",
       "      <th></th>\n",
       "      <th>Sheet_Name</th>\n",
       "      <th>Match_Count</th>\n",
       "      <th>Mismatch_Count</th>\n",
       "    </tr>\n",
       "  </thead>\n",
       "  <tbody>\n",
       "  </tbody>\n",
       "</table>\n",
       "</div>"
      ],
      "text/plain": [
       "Empty DataFrame\n",
       "Columns: [Sheet_Name, Match_Count, Mismatch_Count]\n",
       "Index: []"
      ]
     },
     "execution_count": 19,
     "metadata": {},
     "output_type": "execute_result"
    }
   ],
   "source": [
    "df"
   ]
  },
  {
   "cell_type": "code",
   "execution_count": 1,
   "id": "49c4b6b8-ef85-4479-ab44-f96773f7b8f8",
   "metadata": {},
   "outputs": [
    {
     "name": "stdout",
     "output_type": "stream",
     "text": [
      "[0, 1, 2, 3, 4, 5, 6, 7, 8, 9]\n"
     ]
    }
   ],
   "source": [
    "lis = []\n",
    "\n",
    "for i in range(10):\n",
    "    lis.append(i)\n",
    "\n",
    "print(lis)"
   ]
  },
  {
   "cell_type": "code",
   "execution_count": 6,
   "id": "aebeb523-16cd-42f7-8512-b760f6cb0435",
   "metadata": {},
   "outputs": [],
   "source": [
    "lis_new = lis.copy()"
   ]
  },
  {
   "cell_type": "code",
   "execution_count": 7,
   "id": "50942e0f-dc31-4c86-844e-f134a42585b6",
   "metadata": {},
   "outputs": [
    {
     "name": "stdout",
     "output_type": "stream",
     "text": [
      "[1, 0, 2, 3, 4, 5, 6, 7, 9, 8]\n"
     ]
    }
   ],
   "source": [
    "lis_new[0], lis_new[1] = lis_new[1], lis_new[0]\n",
    "\n",
    "lis_new[-1], lis_new[-2] = lis_new[-2], lis_new[-1]\n",
    "\n",
    "print(lis_new)"
   ]
  },
  {
   "cell_type": "code",
   "execution_count": 18,
   "id": "85fb36d3-dafa-4027-8a96-411b3a0943a6",
   "metadata": {},
   "outputs": [],
   "source": [
    "num_lis = [23,45,41,213,69,72,41,5,2,24]"
   ]
  },
  {
   "cell_type": "code",
   "execution_count": 19,
   "id": "ec55a04a-fc9c-4c50-b1f2-2deb6f40a675",
   "metadata": {},
   "outputs": [
    {
     "name": "stdout",
     "output_type": "stream",
     "text": [
      "213\n"
     ]
    }
   ],
   "source": [
    "highest = 0\n",
    "\n",
    "for i in num_lis:\n",
    "    if i > highest:\n",
    "        highest = i\n",
    "print(highest)"
   ]
  },
  {
   "cell_type": "code",
   "execution_count": 17,
   "id": "11f49402-2ff7-4de4-ab23-50f8d7840326",
   "metadata": {},
   "outputs": [
    {
     "name": "stdout",
     "output_type": "stream",
     "text": [
      "2\n"
     ]
    }
   ],
   "source": [
    "lowest = num_lis[0]\n",
    "for j in num_lis:\n",
    "    if j < lowest:\n",
    "        lowest = j\n",
    "print(lowest)"
   ]
  },
  {
   "cell_type": "code",
   "execution_count": 29,
   "id": "471f859f-93a9-4a6e-b07f-2a31fed2aa4d",
   "metadata": {},
   "outputs": [
    {
     "name": "stdout",
     "output_type": "stream",
     "text": [
      "[24, 2, 5, 41, 72, 69, 213, 41, 45, 23]\n"
     ]
    }
   ],
   "source": [
    "rev_num_lis = []\n",
    "\n",
    "for i in range(len(num_lis)-1, -1, -1):\n",
    "    rev_num_lis.append(num_lis[i])\n",
    "print(rev_num_lis)"
   ]
  },
  {
   "cell_type": "code",
   "execution_count": null,
   "id": "a4d3e3b5-4d1a-48ea-a450-83abc5eee69c",
   "metadata": {},
   "outputs": [],
   "source": []
  },
  {
   "cell_type": "code",
   "execution_count": null,
   "id": "dbff151c-9291-488a-8586-db58c926a48d",
   "metadata": {},
   "outputs": [],
   "source": []
  },
  {
   "cell_type": "code",
   "execution_count": null,
   "id": "fe1cae15-d300-4349-a017-50cb9405db76",
   "metadata": {},
   "outputs": [],
   "source": []
  },
  {
   "cell_type": "code",
   "execution_count": null,
   "id": "62c76c46-68d4-4790-9972-2d315d849383",
   "metadata": {},
   "outputs": [],
   "source": []
  },
  {
   "cell_type": "code",
   "execution_count": null,
   "id": "def6033e-6dd3-4d01-bef1-3a1f5e57430d",
   "metadata": {},
   "outputs": [],
   "source": []
  },
  {
   "cell_type": "code",
   "execution_count": null,
   "id": "8203e870-2458-498d-8d61-5c3db969abb3",
   "metadata": {},
   "outputs": [],
   "source": []
  },
  {
   "cell_type": "code",
   "execution_count": null,
   "id": "015e32d7-45f5-4be4-962c-7412a266cf71",
   "metadata": {},
   "outputs": [],
   "source": []
  },
  {
   "cell_type": "code",
   "execution_count": null,
   "id": "6fe09a37-835c-454b-817a-f13fd4e97942",
   "metadata": {},
   "outputs": [],
   "source": []
  },
  {
   "cell_type": "code",
   "execution_count": null,
   "id": "a9314837-1ce0-4344-9c6c-9d517ddafe13",
   "metadata": {},
   "outputs": [],
   "source": []
  },
  {
   "cell_type": "code",
   "execution_count": null,
   "id": "2f426c4c-ccf3-4390-a201-d8ca960ce9ad",
   "metadata": {},
   "outputs": [],
   "source": []
  },
  {
   "cell_type": "code",
   "execution_count": null,
   "id": "77aab7b6-6382-4ee9-b420-691691c96c92",
   "metadata": {},
   "outputs": [],
   "source": []
  },
  {
   "cell_type": "code",
   "execution_count": null,
   "id": "75b316e1-0ee2-46f9-9d2e-9091bc6e3460",
   "metadata": {},
   "outputs": [],
   "source": []
  },
  {
   "cell_type": "code",
   "execution_count": null,
   "id": "57df74e9-2b22-4bbd-b240-42a752245e5e",
   "metadata": {},
   "outputs": [],
   "source": []
  },
  {
   "cell_type": "code",
   "execution_count": null,
   "id": "2e773a48-7e71-426d-9839-52b788b80e46",
   "metadata": {},
   "outputs": [],
   "source": []
  },
  {
   "cell_type": "code",
   "execution_count": null,
   "id": "0341d2b9-6cd7-425d-9989-660de7543d9e",
   "metadata": {},
   "outputs": [],
   "source": []
  },
  {
   "cell_type": "code",
   "execution_count": null,
   "id": "0c7e64ad-78c4-4e26-a399-20f695e052ff",
   "metadata": {},
   "outputs": [],
   "source": []
  },
  {
   "cell_type": "code",
   "execution_count": null,
   "id": "1a6f1e3b-7cab-4194-b26a-48bfb9eec277",
   "metadata": {},
   "outputs": [],
   "source": []
  },
  {
   "cell_type": "code",
   "execution_count": null,
   "id": "0880cb65-2d29-4baf-b843-8ba477187558",
   "metadata": {},
   "outputs": [],
   "source": []
  },
  {
   "cell_type": "code",
   "execution_count": null,
   "id": "0aa79859-ad06-4355-a5a3-cbd00fbe7655",
   "metadata": {},
   "outputs": [],
   "source": []
  },
  {
   "cell_type": "code",
   "execution_count": null,
   "id": "8ea5ac84-d931-4f12-be08-6bc710a3f874",
   "metadata": {},
   "outputs": [],
   "source": []
  },
  {
   "cell_type": "code",
   "execution_count": null,
   "id": "3696f2ee-189c-4ef1-8371-a36ed3de102d",
   "metadata": {},
   "outputs": [],
   "source": []
  },
  {
   "cell_type": "code",
   "execution_count": null,
   "id": "13818067-0d75-43df-9bc7-4727d8bdd8b9",
   "metadata": {},
   "outputs": [],
   "source": []
  }
 ],
 "metadata": {
  "kernelspec": {
   "display_name": "Python 3 (ipykernel)",
   "language": "python",
   "name": "python3"
  },
  "language_info": {
   "codemirror_mode": {
    "name": "ipython",
    "version": 3
   },
   "file_extension": ".py",
   "mimetype": "text/x-python",
   "name": "python",
   "nbconvert_exporter": "python",
   "pygments_lexer": "ipython3",
   "version": "3.11.4"
  }
 },
 "nbformat": 4,
 "nbformat_minor": 5
}
